{
 "cells": [
  {
   "cell_type": "markdown",
   "id": "61ace964",
   "metadata": {},
   "source": [
    "#### Import calls"
   ]
  },
  {
   "cell_type": "code",
   "execution_count": null,
   "id": "b923dbc0",
   "metadata": {},
   "outputs": [
    {
     "name": "stdout",
     "output_type": "stream",
     "text": [
      "Checking that the installation succeeded:\n",
      "Installation successful.\n"
     ]
    }
   ],
   "source": [
    "import distutils.util\n",
    "import os\n",
    "\n",
    "try:\n",
    "  print('Checking that the installation succeeded:')\n",
    "  import mujoco\n",
    "  mujoco.MjModel.from_xml_string('<mujoco/>')\n",
    "except Exception as e:\n",
    "  raise e from RuntimeError(\n",
    "      'Something went wrong during installation. Check the shell output above '\n",
    "      'for more information.\\n'\n",
    "      'If using a hosted Colab runtime, make sure you enable GPU acceleration '\n",
    "      'by going to the Runtime menu and selecting \"Choose runtime type\".')\n",
    "\n",
    "print('Installation successful.')\n",
    "\n",
    "# Other imports and helper functions\n",
    "import mujoco.viewer\n",
    "import time\n",
    "import itertools\n",
    "import numpy as np\n",
    "\n",
    "# Graphics and plotting.\n",
    "import mediapy as media\n",
    "import matplotlib.pyplot as plt\n",
    "\n",
    "# More legible printing from numpy.\n",
    "np.set_printoptions(precision=3, suppress=True, linewidth=100)\n",
    "\n",
    "from IPython.display import clear_output\n",
    "clear_output()\n",
    "\n",
    "# import from other python files\n",
    "from pend_utils import pd_control\n",
    "# from cane_builder import CaneEditor"
   ]
  },
  {
   "cell_type": "markdown",
   "id": "0d140cfd",
   "metadata": {},
   "source": [
    "#### Let's build the tree!"
   ]
  },
  {
   "cell_type": "code",
   "execution_count": 2,
   "id": "87fab87a",
   "metadata": {},
   "outputs": [],
   "source": [
    "branch_model = \"\"\"\n",
    "<mujoco model=\"single_pendulum\">\n",
    "  <option gravity=\"0 0 -10\"/>\n",
    "  <option integrator=\"RK4\"/>\n",
    "  <compiler angle=\"radian\"/>\n",
    "\n",
    "  <worldbody>\n",
    "    <light name=\"top\" pos=\"-.5 0 1.5\"/>\n",
    "\n",
    "    <!-- tiny blue box -->\n",
    "    <geom size=\"0.025 0.025 0.025\" type=\"box\" rgba=\"0 0 1 1\"/>\n",
    "\n",
    "    <!-- branch -->\n",
    "    <body name=\"branch_link\">\n",
    "      <inertial pos=\"0 0 0.395\" mass=\"0.05052\" diaginertia=\"0.01051 0.01051 9.338e-07\"/>\n",
    "      <joint name=\"base_branch_joint\" type=\"hinge\" pos=\"0 0 0\" axis=\"0 1 0\"/>\n",
    "      <geom size=\"0.00608 0.395\" pos=\"0 0 0.395\" type=\"cylinder\" rgba=\"0 1 0 1\"/>\n",
    "    </body>\n",
    "  </worldbody>\n",
    "\n",
    "  <!-- Define actuators -->\n",
    "  <actuator>\n",
    "    <motor joint=\"base_branch_joint\" name=\"base_torque\"/>\n",
    "  </actuator>\n",
    "\n",
    "  <keyframe>\n",
    "    <key name=\"initial\" qpos=\".1\" qvel=\"-.1\" />\n",
    "  </keyframe>\n",
    "</mujoco>\n",
    "\"\"\""
   ]
  },
  {
   "cell_type": "code",
   "execution_count": null,
   "id": "acc646f6",
   "metadata": {},
   "outputs": [],
   "source": [
    "class CaneEditor():\n",
    "    def __init__(self, xml_name):\n",
    "        self.spec = mujoco.MjSpec.from_string(xml_name)\n",
    "        self.model = self.spec.compile()\n",
    "\n",
    "        self.spec.modelname = \"edited model\"\n",
    "        geoms = self.spec.worldbody.find_all(mujoco.mjtObj.mjOBJ_GEOM)\n",
    "        geoms[0].rgba = [1, 0, 0, 1]\n",
    "        self.model = self.spec.compile()\n",
    "        with mujoco.Renderer(self.model) as renderer:\n",
    "            media.show_image(renderer.render())"
   ]
  },
  {
   "cell_type": "code",
   "execution_count": 3,
   "id": "05c7694d",
   "metadata": {},
   "outputs": [
    {
     "data": {
      "text/html": [
       "<table class=\"show_images\" style=\"border-spacing:0px;\"><tr><td style=\"padding:1px;\"><img width=\"320\" height=\"240\" style=\"image-rendering:auto; object-fit:cover;\" src=\"data:image/png;base64,iVBORw0KGgoAAAANSUhEUgAAAUAAAADwCAIAAAD+Tyo8AAAA9UlEQVR4nO3BAQEAAACCIP+vbkhAAQAAAAAAAAAAAAAAAAAAAAAAAAAAAAAAAAAAAAAAAAAAAAAAAAAAAAAAAAAAAAAAAAAAAAAAAAAAAAAAAAAAAAAAAAAAAAAAAAAAAAAAAAAAAAAAAAAAAAAAAAAAAAAAAAAAAAAAAAAAAAAAAAAAAAAAAAAAAAAAAAAAAAAAAAAAAAAAAAAAAAAAAAAAAAAAAAAAAAAAAAAAAAAAAAAAAAAAAAAAAAAAAAAAAAAAAAAAAAAAAAAAAAAAAAAAAAAAAAAAAAAAAAAAAAAAAAAAAAAAAAAAAAAAAAAAAAAAAPBohR0AAXbPpmUAAAAASUVORK5CYII=\"/></td></tr></table>"
      ],
      "text/plain": [
       "<IPython.core.display.HTML object>"
      ]
     },
     "metadata": {},
     "output_type": "display_data"
    }
   ],
   "source": [
    "editor = CaneEditor(branch_model)"
   ]
  },
  {
   "cell_type": "code",
   "execution_count": null,
   "id": "1f02be8b",
   "metadata": {},
   "outputs": [],
   "source": [
    "model = mujoco.MjModel.from_xml_string(branch_model)\n",
    "data = mujoco.MjData(model)\n",
    "\n",
    "model.opt.timestep = .0001\n",
    "\n",
    "duration = 2\n",
    "framerate = 60\n",
    "\n",
    "Kp = np.array([295])\n",
    "Kd = np.array([.15])\n",
    "init_angles = np.zeros(model.njnt)\n",
    "\n",
    "timevals = []\n",
    "posvals = []\n",
    "\n",
    "frames = []\n",
    "mujoco.mj_resetDataKeyframe(model, data, 0)\n",
    "with mujoco.Renderer(model) as renderer:\n",
    "  while data.time < duration:\n",
    "    pd_control(model, data, Kp, Kd, init_angles)\n",
    "    mujoco.mj_step(model, data)\n",
    "    timevals.append(data.time)\n",
    "    posvals.append(data.qpos.copy())\n",
    "    if len(frames) < data.time*framerate:\n",
    "      renderer.update_scene(data)\n",
    "      pixels = renderer.render()\n",
    "      frames.append(pixels)\n",
    "\n",
    "media.show_video(frames, fps=framerate)\n",
    "  "
   ]
  },
  {
   "cell_type": "code",
   "execution_count": null,
   "id": "b18b7dec",
   "metadata": {},
   "outputs": [],
   "source": [
    "dpi = 120\n",
    "width = 1200\n",
    "height = 400\n",
    "figsize = (width/dpi, height/dpi)\n",
    "fig, ax = plt.subplots(figsize=figsize, dpi=dpi)\n",
    "ax.plot(timevals, posvals)\n",
    "\n",
    "ax.set_title(\"Pendulum Position\")\n",
    "ax.set_ylabel(\"Pend Pos (radians)\")\n",
    "ax.set_xlabel(\"Time (seconds)\")"
   ]
  },
  {
   "cell_type": "code",
   "execution_count": null,
   "id": "20a75139",
   "metadata": {},
   "outputs": [],
   "source": [
    "print(model.opt.timestep )"
   ]
  }
 ],
 "metadata": {
  "kernelspec": {
   "display_name": "ag-venv",
   "language": "python",
   "name": "python3"
  },
  "language_info": {
   "codemirror_mode": {
    "name": "ipython",
    "version": 3
   },
   "file_extension": ".py",
   "mimetype": "text/x-python",
   "name": "python",
   "nbconvert_exporter": "python",
   "pygments_lexer": "ipython3",
   "version": "3.9.7"
  }
 },
 "nbformat": 4,
 "nbformat_minor": 5
}
